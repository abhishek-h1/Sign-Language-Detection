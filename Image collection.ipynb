{
 "cells": [
  {
   "cell_type": "code",
   "execution_count": 1,
   "id": "5ae5da4e",
   "metadata": {},
   "outputs": [],
   "source": [
    "import cv2  #opencv\n",
    "import os   #helps with file paths\n",
    "import time\n",
    "import uuid #used to uniquely name images"
   ]
  },
  {
   "cell_type": "code",
   "execution_count": 3,
   "id": "3f650082",
   "metadata": {},
   "outputs": [],
   "source": [
    "IMAGES_PATH = 'Temsorflow/workspace/images/collectedimages'"
   ]
  },
  {
   "cell_type": "code",
   "execution_count": 4,
   "id": "f93bd055",
   "metadata": {},
   "outputs": [],
   "source": [
    "labels = ['up', 'down', 'left', 'right']\n",
    "number_img = 5"
   ]
  },
  {
   "cell_type": "code",
   "execution_count": null,
   "id": "aadd3843",
   "metadata": {},
   "outputs": [],
   "source": [
    "for label in labels:\n",
    "    !mkdir {IMAGES_PATH + '\\\\' + label}\n",
    "    cap = cv2.videoCapture(0)\n",
    "    \n",
    "    print('collecting images for {}'.format(label))\n",
    "    time.sleep(5)\n",
    "    \n",
    "    for imgnum in range(number_img):\n",
    "        ret, frame = cap.read()\n",
    "        \n",
    "        image_name = os.path.join(IMAGES_PATH, label, label + '.' + '{}.jpg'.format(str(uuid.uuid1())))\n",
    "        \n",
    "        cv2.imwrite(img_name, frame)\n",
    "        cv2.imshow('frame', frame)\n",
    "        \n",
    "        time.sleep(2)\n",
    "        \n",
    "        if cv2.waitKey(1) & 0xFF == ord('q'):\n",
    "            break\n",
    "    cap.release()\n",
    "        "
   ]
  }
 ],
 "metadata": {
  "kernelspec": {
   "display_name": "Python 3",
   "language": "python",
   "name": "python3"
  },
  "language_info": {
   "codemirror_mode": {
    "name": "ipython",
    "version": 3
   },
   "file_extension": ".py",
   "mimetype": "text/x-python",
   "name": "python",
   "nbconvert_exporter": "python",
   "pygments_lexer": "ipython3",
   "version": "3.8.8"
  }
 },
 "nbformat": 4,
 "nbformat_minor": 5
}
