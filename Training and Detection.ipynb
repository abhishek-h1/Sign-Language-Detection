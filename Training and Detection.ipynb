{
 "cells": [
  {
   "cell_type": "markdown",
   "metadata": {},
   "source": [
    "Resources Used\n",
    "- wget.download('https://tensorflow-object-detection-api-tutorial.readthedocs.io/en/latest/_downloads/da4babe668a8afb093cc7776d7e630f3/generate_tfrecord.py')\n",
    "- Setup https://tensorflow-object-detection-api-tutorial.readthedocs.io/en/latest/install.html"
   ]
  },
  {
   "cell_type": "markdown",
   "metadata": {},
   "source": [
    "# 0. Setup Paths"
   ]
  },
  {
   "cell_type": "code",
   "execution_count": 1,
   "metadata": {},
   "outputs": [],
   "source": [
    "WORKSPACE_PATH = 'Tensorflow/workspace'\n",
    "SCRIPTS_PATH = 'Tensorflow/scripts'\n",
    "APIMODEL_PATH = 'Tensorflow/models'\n",
    "ANNOTATION_PATH = WORKSPACE_PATH+'/annotations'\n",
    "IMAGE_PATH = WORKSPACE_PATH+'/images'\n",
    "MODEL_PATH = WORKSPACE_PATH+'/models'\n",
    "PRETRAINED_MODEL_PATH = WORKSPACE_PATH+'/pre-trained-models'\n",
    "CONFIG_PATH = MODEL_PATH+'/my_ssd_mobnet/pipeline.config'\n",
    "CHECKPOINT_PATH = MODEL_PATH+'/my_ssd_mobnet/'"
   ]
  },
  {
   "cell_type": "markdown",
   "metadata": {},
   "source": [
    "# 1. Create Label Map"
   ]
  },
  {
   "cell_type": "code",
   "execution_count": 2,
   "metadata": {},
   "outputs": [],
   "source": [
    "labels = [{'name':'Telephone', 'id':1}, \n",
    "          {'name':'ILoveYou', 'id':2},\n",
    "          {'name':'Family', 'id':3},\n",
    "          {'name':'Yes', 'id':4},\n",
    "          {'name':'No', 'id':5},\n",
    "          {'name':'Money', 'id':6},\n",
    "          {'name':'Help', 'id':7}]\n",
    "\n",
    "with open(ANNOTATION_PATH + '\\label_map.pbtxt', 'w') as f:\n",
    "    for label in labels:\n",
    "        f.write('item { \\n')\n",
    "        f.write('\\tname:\\'{}\\'\\n'.format(label['name']))\n",
    "        f.write('\\tid:{}\\n'.format(label['id']))\n",
    "        f.write('}\\n')"
   ]
  },
  {
   "cell_type": "markdown",
   "metadata": {},
   "source": [
    "# 2. Create TF records"
   ]
  },
  {
   "cell_type": "code",
   "execution_count": 10,
   "metadata": {},
   "outputs": [
    {
     "name": "stdout",
     "output_type": "stream",
     "text": [
      "Successfully created the TFRecord file: Tensorflow/workspace/annotations/train.record\n",
      "Successfully created the TFRecord file: Tensorflow/workspace/annotations/test.record\n"
     ]
    }
   ],
   "source": [
    "!python {SCRIPTS_PATH + '/generate_tfrecord.py'} -x {IMAGE_PATH + '/train'} -l {ANNOTATION_PATH + '/label_map.pbtxt'} -o {ANNOTATION_PATH + '/train.record'}\n",
    "!python {SCRIPTS_PATH + '/generate_tfrecord.py'} -x{IMAGE_PATH + '/test'} -l {ANNOTATION_PATH + '/label_map.pbtxt'} -o {ANNOTATION_PATH + '/test.record'}"
   ]
  },
  {
   "cell_type": "markdown",
   "metadata": {},
   "source": [
    "# 3. Download TF Models Pretrained Models from Tensorflow Model Zoo"
   ]
  },
  {
   "cell_type": "code",
   "execution_count": 20,
   "metadata": {},
   "outputs": [
    {
     "name": "stderr",
     "output_type": "stream",
     "text": [
      "fatal: destination path 'models' already exists and is not an empty directory.\n"
     ]
    }
   ],
   "source": [
    "!cd Tensorflow && git clone https://github.com/tensorflow/models"
   ]
  },
  {
   "cell_type": "code",
   "execution_count": 6,
   "metadata": {},
   "outputs": [],
   "source": [
    "#wget.download('http://download.tensorflow.org/models/object_detection/tf2/20200711/ssd_mobilenet_v2_fpnlite_320x320_coco17_tpu-8.tar.gz')\n",
    "#!mv ssd_mobilenet_v2_fpnlite_320x320_coco17_tpu-8.tar.gz {PRETRAINED_MODEL_PATH}\n",
    "#!cd {PRETRAINED_MODEL_PATH} && tar -zxvf ssd_mobilenet_v2_fpnlite_320x320_coco17_tpu-8.tar.gz"
   ]
  },
  {
   "cell_type": "markdown",
   "metadata": {},
   "source": [
    "# 4. Copy Model Config to Training Folder"
   ]
  },
  {
   "cell_type": "code",
   "execution_count": 3,
   "metadata": {},
   "outputs": [],
   "source": [
    "CUSTOM_MODEL_NAME = 'my_ssd_mobnet' "
   ]
  },
  {
   "cell_type": "code",
   "execution_count": 8,
   "metadata": {},
   "outputs": [
    {
     "name": "stderr",
     "output_type": "stream",
     "text": [
      "A subdirectory or file Tensorflow\\workspace\\models\\my_ssd_mobnet already exists.\n",
      "'cp' is not recognized as an internal or external command,\n",
      "operable program or batch file.\n"
     ]
    }
   ],
   "source": [
    "!mkdir {'Tensorflow\\workspace\\models\\\\'+CUSTOM_MODEL_NAME}\n",
    "!cp {PRETRAINED_MODEL_PATH+'/ssd_mobilenet_v2_fpnlite_320x320_coco17_tpu-8/pipeline.config'} {MODEL_PATH+'/'+CUSTOM_MODEL_NAME}"
   ]
  },
  {
   "cell_type": "markdown",
   "metadata": {},
   "source": [
    "# 5. Update Config For Transfer Learning"
   ]
  },
  {
   "cell_type": "code",
   "execution_count": 4,
   "metadata": {},
   "outputs": [],
   "source": [
    "import tensorflow as tf\n",
    "from object_detection.utils import config_util\n",
    "from object_detection.protos import pipeline_pb2\n",
    "from google.protobuf import text_format"
   ]
  },
  {
   "cell_type": "code",
   "execution_count": 5,
   "metadata": {},
   "outputs": [],
   "source": [
    "CONFIG_PATH = MODEL_PATH+'/'+CUSTOM_MODEL_NAME+'/pipeline.config'"
   ]
  },
  {
   "cell_type": "code",
   "execution_count": 6,
   "metadata": {},
   "outputs": [],
   "source": [
    "config = config_util.get_configs_from_pipeline_file(CONFIG_PATH)"
   ]
  },
  {
   "cell_type": "code",
   "execution_count": 10,
   "metadata": {},
   "outputs": [
    {
     "data": {
      "text/plain": [
       "{'model': ssd {\n",
       "   num_classes: 7\n",
       "   image_resizer {\n",
       "     fixed_shape_resizer {\n",
       "       height: 320\n",
       "       width: 320\n",
       "     }\n",
       "   }\n",
       "   feature_extractor {\n",
       "     type: \"ssd_mobilenet_v2_fpn_keras\"\n",
       "     depth_multiplier: 1.0\n",
       "     min_depth: 16\n",
       "     conv_hyperparams {\n",
       "       regularizer {\n",
       "         l2_regularizer {\n",
       "           weight: 3.9999998989515007e-05\n",
       "         }\n",
       "       }\n",
       "       initializer {\n",
       "         random_normal_initializer {\n",
       "           mean: 0.0\n",
       "           stddev: 0.009999999776482582\n",
       "         }\n",
       "       }\n",
       "       activation: RELU_6\n",
       "       batch_norm {\n",
       "         decay: 0.996999979019165\n",
       "         scale: true\n",
       "         epsilon: 0.0010000000474974513\n",
       "       }\n",
       "     }\n",
       "     use_depthwise: true\n",
       "     override_base_feature_extractor_hyperparams: true\n",
       "     fpn {\n",
       "       min_level: 3\n",
       "       max_level: 7\n",
       "       additional_layer_depth: 128\n",
       "     }\n",
       "   }\n",
       "   box_coder {\n",
       "     faster_rcnn_box_coder {\n",
       "       y_scale: 10.0\n",
       "       x_scale: 10.0\n",
       "       height_scale: 5.0\n",
       "       width_scale: 5.0\n",
       "     }\n",
       "   }\n",
       "   matcher {\n",
       "     argmax_matcher {\n",
       "       matched_threshold: 0.5\n",
       "       unmatched_threshold: 0.5\n",
       "       ignore_thresholds: false\n",
       "       negatives_lower_than_unmatched: true\n",
       "       force_match_for_each_row: true\n",
       "       use_matmul_gather: true\n",
       "     }\n",
       "   }\n",
       "   similarity_calculator {\n",
       "     iou_similarity {\n",
       "     }\n",
       "   }\n",
       "   box_predictor {\n",
       "     weight_shared_convolutional_box_predictor {\n",
       "       conv_hyperparams {\n",
       "         regularizer {\n",
       "           l2_regularizer {\n",
       "             weight: 3.9999998989515007e-05\n",
       "           }\n",
       "         }\n",
       "         initializer {\n",
       "           random_normal_initializer {\n",
       "             mean: 0.0\n",
       "             stddev: 0.009999999776482582\n",
       "           }\n",
       "         }\n",
       "         activation: RELU_6\n",
       "         batch_norm {\n",
       "           decay: 0.996999979019165\n",
       "           scale: true\n",
       "           epsilon: 0.0010000000474974513\n",
       "         }\n",
       "       }\n",
       "       depth: 128\n",
       "       num_layers_before_predictor: 4\n",
       "       kernel_size: 3\n",
       "       class_prediction_bias_init: -4.599999904632568\n",
       "       share_prediction_tower: true\n",
       "       use_depthwise: true\n",
       "     }\n",
       "   }\n",
       "   anchor_generator {\n",
       "     multiscale_anchor_generator {\n",
       "       min_level: 3\n",
       "       max_level: 7\n",
       "       anchor_scale: 4.0\n",
       "       aspect_ratios: 1.0\n",
       "       aspect_ratios: 2.0\n",
       "       aspect_ratios: 0.5\n",
       "       scales_per_octave: 2\n",
       "     }\n",
       "   }\n",
       "   post_processing {\n",
       "     batch_non_max_suppression {\n",
       "       score_threshold: 9.99999993922529e-09\n",
       "       iou_threshold: 0.6000000238418579\n",
       "       max_detections_per_class: 100\n",
       "       max_total_detections: 100\n",
       "       use_static_shapes: false\n",
       "     }\n",
       "     score_converter: SIGMOID\n",
       "   }\n",
       "   normalize_loss_by_num_matches: true\n",
       "   loss {\n",
       "     localization_loss {\n",
       "       weighted_smooth_l1 {\n",
       "       }\n",
       "     }\n",
       "     classification_loss {\n",
       "       weighted_sigmoid_focal {\n",
       "         gamma: 2.0\n",
       "         alpha: 0.25\n",
       "       }\n",
       "     }\n",
       "     classification_weight: 1.0\n",
       "     localization_weight: 1.0\n",
       "   }\n",
       "   encode_background_as_zeros: true\n",
       "   normalize_loc_loss_by_codesize: true\n",
       "   inplace_batchnorm_update: true\n",
       "   freeze_batchnorm: false\n",
       " },\n",
       " 'train_config': batch_size: 4\n",
       " data_augmentation_options {\n",
       "   random_horizontal_flip {\n",
       "   }\n",
       " }\n",
       " data_augmentation_options {\n",
       "   random_crop_image {\n",
       "     min_object_covered: 0.0\n",
       "     min_aspect_ratio: 0.75\n",
       "     max_aspect_ratio: 3.0\n",
       "     min_area: 0.75\n",
       "     max_area: 1.0\n",
       "     overlap_thresh: 0.0\n",
       "   }\n",
       " }\n",
       " sync_replicas: true\n",
       " optimizer {\n",
       "   momentum_optimizer {\n",
       "     learning_rate {\n",
       "       cosine_decay_learning_rate {\n",
       "         learning_rate_base: 0.07999999821186066\n",
       "         total_steps: 50000\n",
       "         warmup_learning_rate: 0.026666000485420227\n",
       "         warmup_steps: 1000\n",
       "       }\n",
       "     }\n",
       "     momentum_optimizer_value: 0.8999999761581421\n",
       "   }\n",
       "   use_moving_average: false\n",
       " }\n",
       " fine_tune_checkpoint: \"Tensorflow/workspace/pre-trained-models/ssd_mobilenet_v2_fpnlite_320x320_coco17_tpu-8/checkpoint/ckpt-0\"\n",
       " num_steps: 50000\n",
       " startup_delay_steps: 0.0\n",
       " replicas_to_aggregate: 8\n",
       " max_number_of_boxes: 100\n",
       " unpad_groundtruth_tensors: false\n",
       " fine_tune_checkpoint_type: \"detection\"\n",
       " fine_tune_checkpoint_version: V2,\n",
       " 'train_input_config': label_map_path: \"Tensorflow/workspace/annotations/label_map.pbtxt\"\n",
       " tf_record_input_reader {\n",
       "   input_path: \"Tensorflow/workspace/annotations/train.record\"\n",
       " },\n",
       " 'eval_config': metrics_set: \"coco_detection_metrics\"\n",
       " use_moving_averages: false,\n",
       " 'eval_input_configs': [label_map_path: \"Tensorflow/workspace/annotations/label_map.pbtxt\"\n",
       " shuffle: false\n",
       " num_epochs: 1\n",
       " tf_record_input_reader {\n",
       "   input_path: \"Tensorflow/workspace/annotations/test.record\"\n",
       " }\n",
       " ],\n",
       " 'eval_input_config': label_map_path: \"Tensorflow/workspace/annotations/label_map.pbtxt\"\n",
       " shuffle: false\n",
       " num_epochs: 1\n",
       " tf_record_input_reader {\n",
       "   input_path: \"Tensorflow/workspace/annotations/test.record\"\n",
       " }}"
      ]
     },
     "execution_count": 10,
     "metadata": {},
     "output_type": "execute_result"
    }
   ],
   "source": [
    "config"
   ]
  },
  {
   "cell_type": "code",
   "execution_count": 7,
   "metadata": {},
   "outputs": [],
   "source": [
    "pipeline_config = pipeline_pb2.TrainEvalPipelineConfig()\n",
    "with tf.io.gfile.GFile(CONFIG_PATH, \"r\") as f:                                                                                                                                                                                                                     \n",
    "    proto_str = f.read()                                                                                                                                                                                                                                          \n",
    "    text_format.Merge(proto_str, pipeline_config)  "
   ]
  },
  {
   "cell_type": "code",
   "execution_count": 16,
   "metadata": {},
   "outputs": [],
   "source": [
    "pipeline_config.model.ssd.num_classes = 7\n",
    "pipeline_config.train_config.batch_size = 4\n",
    "pipeline_config.train_config.fine_tune_checkpoint = PRETRAINED_MODEL_PATH+'/ssd_mobilenet_v2_fpnlite_320x320_coco17_tpu-8/checkpoint/ckpt-0'\n",
    "pipeline_config.train_config.fine_tune_checkpoint_type = \"detection\"\n",
    "pipeline_config.train_input_reader.label_map_path= ANNOTATION_PATH + '/label_map.pbtxt'\n",
    "pipeline_config.train_input_reader.tf_record_input_reader.input_path[:] = [ANNOTATION_PATH + '/train.record']\n",
    "pipeline_config.eval_input_reader[0].label_map_path = ANNOTATION_PATH + '/label_map.pbtxt'\n",
    "pipeline_config.eval_input_reader[0].tf_record_input_reader.input_path[:] = [ANNOTATION_PATH + '/test.record']"
   ]
  },
  {
   "cell_type": "code",
   "execution_count": 35,
   "metadata": {},
   "outputs": [],
   "source": [
    "config_text = text_format.MessageToString(pipeline_config)                                                                                                                                                                                                        \n",
    "with tf.io.gfile.GFile(CONFIG_PATH, \"wb\") as f:                                                                                                                                                                                                                     \n",
    "    f.write(config_text)   "
   ]
  },
  {
   "cell_type": "markdown",
   "metadata": {},
   "source": [
    "# 6. Train the model"
   ]
  },
  {
   "cell_type": "code",
   "execution_count": 9,
   "metadata": {},
   "outputs": [
    {
     "name": "stdout",
     "output_type": "stream",
     "text": [
      "python Tensorflow/models/research/object_detection/model_main_tf2.py --model_dir=Tensorflow/workspace/models/my_ssd_mobnet --pipeline_config_path=Tensorflow/workspace/models/my_ssd_mobnet/pipeline.config --num_train_steps=15000\n"
     ]
    }
   ],
   "source": [
    "print(\"\"\"python {}/research/object_detection/model_main_tf2.py --model_dir={}/{} --pipeline_config_path={}/{}/pipeline.config --num_train_steps=15000\"\"\".format(APIMODEL_PATH, MODEL_PATH,CUSTOM_MODEL_NAME,MODEL_PATH,CUSTOM_MODEL_NAME))"
   ]
  },
  {
   "cell_type": "markdown",
   "metadata": {},
   "source": [
    "# 7. Load Train Model From Checkpoint"
   ]
  },
  {
   "cell_type": "code",
   "execution_count": 6,
   "metadata": {},
   "outputs": [],
   "source": [
    "import os\n",
    "from object_detection.utils import label_map_util\n",
    "from object_detection.utils import visualization_utils as viz_utils\n",
    "from object_detection.builders import model_builder"
   ]
  },
  {
   "cell_type": "code",
   "execution_count": 7,
   "metadata": {},
   "outputs": [],
   "source": [
    "# Load pipeline config and build a detection model\n",
    "configs = config_util.get_configs_from_pipeline_file(CONFIG_PATH)\n",
    "detection_model = model_builder.build(model_config=configs['model'], is_training=False)\n",
    "\n",
    "# Restore checkpoint\n",
    "ckpt = tf.compat.v2.train.Checkpoint(model=detection_model)\n",
    "ckpt.restore(os.path.join(CHECKPOINT_PATH, 'ckpt-16')).expect_partial()\n",
    "\n",
    "@tf.function\n",
    "def detect_fn(image):\n",
    "    image, shapes = detection_model.preprocess(image)\n",
    "    prediction_dict = detection_model.predict(image, shapes)\n",
    "    detections = detection_model.postprocess(prediction_dict, shapes)\n",
    "    return detections"
   ]
  },
  {
   "cell_type": "code",
   "execution_count": null,
   "metadata": {},
   "outputs": [],
   "source": []
  },
  {
   "cell_type": "markdown",
   "metadata": {},
   "source": [
    "# TESTING"
   ]
  },
  {
   "cell_type": "code",
   "execution_count": 17,
   "metadata": {},
   "outputs": [],
   "source": [
    "import cv2 \n",
    "import numpy as np\n",
    "from matplotlib import pyplot as plt\n",
    "%matplotlib inline"
   ]
  },
  {
   "cell_type": "code",
   "execution_count": 18,
   "metadata": {},
   "outputs": [],
   "source": [
    "category_index = label_map_util.create_category_index_from_labelmap(ANNOTATION_PATH+'/label_map.pbtxt')"
   ]
  },
  {
   "cell_type": "code",
   "execution_count": 40,
   "metadata": {},
   "outputs": [],
   "source": [
    "STANDARD_COLORS = [\n",
    "    'AliceBlue', 'Chartreuse', 'Aqua', 'Aquamarine', 'Azure', 'Beige', 'Bisque',\n",
    "    'BlanchedAlmond', 'BlueViolet', 'BurlyWood', 'CadetBlue', 'AntiqueWhite',\n",
    "    'Chocolate', 'Coral', 'CornflowerBlue', 'Cornsilk', 'Crimson', 'Cyan',\n",
    "    'DarkCyan', 'DarkGoldenRod', 'DarkGrey', 'DarkKhaki', 'DarkOrange',\n",
    "    'DarkOrchid', 'DarkSalmon', 'DarkSeaGreen', 'DarkTurquoise', 'DarkViolet',\n",
    "    'DeepPink', 'DeepSkyBlue', 'DodgerBlue', 'FireBrick', 'FloralWhite',\n",
    "    'ForestGreen', 'Fuchsia', 'Gainsboro', 'GhostWhite', 'Gold', 'GoldenRod',\n",
    "    'Salmon', 'Tan', 'HoneyDew', 'HotPink', 'IndianRed', 'Ivory', 'Khaki',\n",
    "    'Lavender', 'LavenderBlush', 'LawnGreen', 'LemonChiffon', 'LightBlue',\n",
    "    'LightCoral', 'LightCyan', 'LightGoldenRodYellow', 'LightGray', 'LightGrey',\n",
    "    'LightGreen', 'LightPink', 'LightSalmon', 'LightSeaGreen', 'LightSkyBlue',\n",
    "    'LightSlateGray', 'LightSlateGrey', 'LightSteelBlue', 'LightYellow', 'Lime',\n",
    "    'LimeGreen', 'Linen', 'Magenta', 'MediumAquaMarine', 'MediumOrchid',\n",
    "    'MediumPurple', 'MediumSeaGreen', 'MediumSlateBlue', 'MediumSpringGreen',\n",
    "    'MediumTurquoise', 'MediumVioletRed', 'MintCream', 'MistyRose', 'Moccasin',\n",
    "    'NavajoWhite', 'OldLace', 'Olive', 'OliveDrab', 'Orange', 'OrangeRed',\n",
    "    'Orchid', 'PaleGoldenRod', 'PaleGreen', 'PaleTurquoise', 'PaleVioletRed',\n",
    "    'PapayaWhip', 'PeachPuff', 'Peru', 'Pink', 'Plum', 'PowderBlue', 'Purple',\n",
    "    'Red', 'RosyBrown', 'RoyalBlue', 'SaddleBrown', 'Green', 'SandyBrown',\n",
    "    'SeaGreen', 'SeaShell', 'Sienna', 'Silver', 'SkyBlue', 'SlateBlue',\n",
    "    'SlateGray', 'SlateGrey', 'Snow', 'SpringGreen', 'SteelBlue', 'GreenYellow',\n",
    "    'Teal', 'Thistle', 'Tomato', 'Turquoise', 'Violet', 'Wheat', 'White',\n",
    "    'WhiteSmoke', 'Yellow', 'YellowGreen'\n",
    "]"
   ]
  },
  {
   "cell_type": "code",
   "execution_count": 44,
   "metadata": {},
   "outputs": [],
   "source": [
    "def draw_bounding_box_on_image_array(image,\n",
    "                                     ymin,\n",
    "                                     xmin,\n",
    "                                     ymax,\n",
    "                                     xmax,\n",
    "                                     color='red',\n",
    "                                     thickness=4,\n",
    "                                     display_str_list=(),\n",
    "                                     use_normalized_coordinates=True):\n",
    "    image_pil = Image.fromarray(np.uint8(image)).convert('RGB')\n",
    "    draw_bounding_box_on_image(image_pil, ymin, xmin, ymax, xmax, color, thickness, display_str_list, use_normalized_coordinates)\n",
    "    np.copyto(image, np.array(image_pil))\n",
    "    \n",
    "    \n",
    "def draw_bounding_box_on_image(image,\n",
    "                               ymin,\n",
    "                               xmin,\n",
    "                               ymax,\n",
    "                               xmax,\n",
    "                               color='red',\n",
    "                               thickness=4,\n",
    "                               display_str_list=(),\n",
    "                               use_normalized_coordinates=True):\n",
    "    draw = ImageDraw.Draw(image)\n",
    "    im_width, im_height = image.size\n",
    "    if use_normalized_coordinates:\n",
    "        (left, right, top, bottom) = (xmin * im_width, xmax * im_width, ymin * im_height, ymax * im_height)\n",
    "    else:\n",
    "        (left, right, top, bottom) = (xmin, xmax, ymin, ymax)\n",
    "    if thickness > 0:\n",
    "        draw.line([(left, top), (left, bottom), (right, bottom), (right, top),(left, top)],width=thickness,\n",
    "              fill=color)\n",
    "    try:\n",
    "        font = ImageFont.truetype('arial.ttf', 24)\n",
    "    except IOError:\n",
    "        font = ImageFont.load_default()\n",
    "\n",
    "  # If the total height of the display strings added to the top of the bounding\n",
    "  # box exceeds the top of the image, stack the strings below the bounding box\n",
    "  # instead of above.\n",
    "    display_str_heights = [font.getsize(ds)[1] for ds in display_str_list]\n",
    "  # Each display_str has a top and bottom margin of 0.05x.\n",
    "    total_display_str_height = (1 + 2 * 0.05) * sum(display_str_heights)\n",
    "\n",
    "    if top > total_display_str_height:\n",
    "        text_bottom = top\n",
    "    else:\n",
    "        text_bottom = bottom + total_display_str_height\n",
    "  # Reverse list and print from bottom to top.\n",
    "    for display_str in display_str_list[::-1]:\n",
    "        text_width, text_height = font.getsize(display_str)\n",
    "        margin = np.ceil(0.05 * text_height)\n",
    "        draw.rectangle(\n",
    "            [(left, text_bottom - text_height - 2 * margin), (left + text_width,\n",
    "                                                              text_bottom)],\n",
    "            fill=color)\n",
    "        draw.text(\n",
    "            (left + margin, text_bottom - text_height - margin),\n",
    "            display_str,\n",
    "            fill='black',\n",
    "            font=font)\n",
    "        text_bottom -= text_height - 2 * margin\n",
    "\n",
    "    \n",
    "    \n"
   ]
  },
  {
   "cell_type": "code",
   "execution_count": null,
   "metadata": {},
   "outputs": [],
   "source": []
  },
  {
   "cell_type": "code",
   "execution_count": 54,
   "metadata": {},
   "outputs": [],
   "source": [
    "import collections\n",
    "import six\n",
    "import PIL.Image as Image\n",
    "import PIL.ImageColor as ImageColor\n",
    "import PIL.ImageDraw as ImageDraw\n",
    "import PIL.ImageFont as ImageFont\n",
    "\n",
    "def visualize_boxes_and_labels_on_image_array(\n",
    "    image,\n",
    "    boxes,\n",
    "    classes,\n",
    "    scores,\n",
    "    category_index,\n",
    "    instance_masks=None,\n",
    "    instance_boundaries=None,\n",
    "    keypoints=None,\n",
    "    keypoint_scores=None,\n",
    "    keypoint_edges=None,\n",
    "    track_ids=None,\n",
    "    use_normalized_coordinates=False,\n",
    "    max_boxes_to_draw=20,\n",
    "    min_score_thresh=.5,\n",
    "    agnostic_mode=False,\n",
    "    line_thickness=4,\n",
    "    mask_alpha=.4,\n",
    "    groundtruth_box_visualization_color='black',\n",
    "    skip_boxes=False,\n",
    "    skip_scores=False,\n",
    "    skip_labels=False,\n",
    "    skip_track_ids=False):\n",
    "    \n",
    "    \n",
    "    box_to_display_str_map = collections.defaultdict(list)\n",
    "    box_to_color_map = collections.defaultdict(str)\n",
    "    box_to_instance_masks_map = {}\n",
    "    box_to_instance_boundaries_map = {}\n",
    "    box_to_keypoints_map = collections.defaultdict(list)\n",
    "    box_to_keypoint_scores_map = collections.defaultdict(list)\n",
    "    box_to_track_ids_map = {}\n",
    "    final_label = 'empty'\n",
    "    if not max_boxes_to_draw:\n",
    "        max_boxes_to_draw = boxes.shape[0]\n",
    "    for i in range(boxes.shape[0]):\n",
    "        if max_boxes_to_draw == len(box_to_color_map):\n",
    "            break\n",
    "        if scores is None or scores[i] > min_score_thresh:\n",
    "            box = tuple(boxes[i].tolist())\n",
    "            if instance_masks is not None:\n",
    "                box_to_instance_masks_map[box] = instance_masks[i]\n",
    "            if instance_boundaries is not None:\n",
    "                box_to_instance_boundaries_map[box] = instance_boundaries[i]\n",
    "            if keypoints is not None:\n",
    "                box_to_keypoints_map[box].extend(keypoints[i])\n",
    "            if keypoint_scores is not None:\n",
    "                box_to_keypoint_scores_map[box].extend(keypoint_scores[i])\n",
    "            if track_ids is not None:\n",
    "                box_to_track_ids_map[box] = track_ids[i]\n",
    "            if scores is None:\n",
    "                box_to_color_map[box] = groundtruth_box_visualization_color\n",
    "            else:\n",
    "                display_str = ''\n",
    "                if not skip_labels:\n",
    "                    if not agnostic_mode:\n",
    "                        if classes[i] in six.viewkeys(category_index):\n",
    "                            class_name = category_index[classes[i]]['name']\n",
    "                        else:\n",
    "                            class_name = 'N/A'\n",
    "                        display_str = str(class_name)\n",
    "                final_label = display_str\n",
    "                if not skip_scores:\n",
    "                    if not display_str:\n",
    "                        display_str = '{}%'.format(round(100*scores[i]))\n",
    "                        final_label = display_str\n",
    "                    else:\n",
    "                        display_str = '{}: {}%'.format(display_str, round(100*scores[i]))\n",
    "                if not skip_track_ids and track_ids is not None:\n",
    "                    if not display_str:\n",
    "                        display_str = 'ID {}'.format(track_ids[i])\n",
    "                        final_label = track_ids[i]\n",
    "                    else:\n",
    "                        display_str = '{}: ID {}'.format(display_str, track_ids[i])\n",
    "\n",
    "                box_to_display_str_map[box].append(display_str)\n",
    "                if agnostic_mode:\n",
    "                    box_to_color_map[box] = 'DarkOrange'\n",
    "                elif track_ids is not None:\n",
    "                    prime_multipler = _get_multiplier_for_color_randomness()\n",
    "                    box_to_color_map[box] = STANDARD_COLORS[\n",
    "                    (prime_multipler * track_ids[i]) % len(STANDARD_COLORS)]\n",
    "                else:\n",
    "                    box_to_color_map[box] = STANDARD_COLORS[\n",
    "                      classes[i] % len(STANDARD_COLORS)]\n",
    "\n",
    "  # Draw all boxes onto image.\n",
    "    for box, color in box_to_color_map.items():\n",
    "        ymin, xmin, ymax, xmax = box\n",
    "        if instance_masks is not None:\n",
    "            draw_mask_on_image_array(\n",
    "              image,\n",
    "              box_to_instance_masks_map[box],\n",
    "              color=color,\n",
    "              alpha=mask_alpha\n",
    "          )\n",
    "        if instance_boundaries is not None:\n",
    "            draw_mask_on_image_array(\n",
    "              image,\n",
    "              box_to_instance_boundaries_map[box],\n",
    "              color='red',\n",
    "              alpha=1.0\n",
    "          )\n",
    "        draw_bounding_box_on_image_array(\n",
    "            image,\n",
    "            ymin,\n",
    "            xmin,\n",
    "            ymax,\n",
    "            xmax,\n",
    "            color=color,\n",
    "            thickness=0 if skip_boxes else line_thickness,\n",
    "            display_str_list=box_to_display_str_map[box],\n",
    "            use_normalized_coordinates=use_normalized_coordinates)\n",
    "        if keypoints is not None:\n",
    "            keypoint_scores_for_box = None\n",
    "            if box_to_keypoint_scores_map:\n",
    "                keypoint_scores_for_box = box_to_keypoint_scores_map[box]\n",
    "            draw_keypoints_on_image_array(\n",
    "              image,\n",
    "              box_to_keypoints_map[box],\n",
    "              keypoint_scores_for_box,\n",
    "              min_score_thresh=min_score_thresh,\n",
    "              color=color,\n",
    "              radius=line_thickness / 2,\n",
    "              use_normalized_coordinates=use_normalized_coordinates,\n",
    "              keypoint_edges=keypoint_edges,\n",
    "              keypoint_edge_color=color,\n",
    "              keypoint_edge_width=line_thickness // 2)\n",
    "\n",
    "    return final_label, image"
   ]
  },
  {
   "cell_type": "code",
   "execution_count": 104,
   "metadata": {},
   "outputs": [
    {
     "name": "stdout",
     "output_type": "stream",
     "text": [
      "path Tensorflow/workspace/images\\test\n"
     ]
    }
   ],
   "source": [
    "PATH = os.path.join(IMAGE_PATH, 'test')\n",
    "print('path', str(PATH))\n",
    "\n",
    "y_pred=[]\n",
    "y_act=[]\n",
    "\n",
    "for img in os.listdir(PATH):\n",
    "    f=os.path.join(PATH,img)\n",
    "    temp=str(f[-3]+f[-2]+f[-1])\n",
    "    if(temp=='jpg'):\n",
    "        class_name = img.split('.')[0]\n",
    "        if(class_name == 'Iloveyou'):\n",
    "            class_name = 'ILoveYou'\n",
    "        y_act.append(class_name)\n",
    "\n",
    "\n",
    "\n",
    "\n",
    "        img = cv2.imread(f)\n",
    "        image_np = np.array(img)\n",
    "\n",
    "        input_tensor = tf.convert_to_tensor(np.expand_dims(image_np, 0), dtype=tf.float32)\n",
    "        detections = detect_fn(input_tensor)\n",
    "\n",
    "        num_detections = int(detections.pop('num_detections'))\n",
    "        detections = {key: value[0, :num_detections].numpy()\n",
    "                      for key, value in detections.items()}\n",
    "        detections['num_detections'] = num_detections\n",
    "\n",
    "        # detection_classes should be ints.\n",
    "        detections['detection_classes'] = detections['detection_classes'].astype(np.int64)\n",
    "        \n",
    "#         detection_list.append(detections['detection_classes'])\n",
    "        \n",
    "        label_id_offset = 1\n",
    "        image_np_with_detections = image_np.copy()\n",
    "\n",
    "        label, _ = visualize_boxes_and_labels_on_image_array(\n",
    "                    image_np_with_detections,\n",
    "                    detections['detection_boxes'],\n",
    "                    detections['detection_classes']+label_id_offset,\n",
    "                    detections['detection_scores'],\n",
    "                    category_index,\n",
    "                    use_normalized_coordinates=True,\n",
    "                    max_boxes_to_draw=5,\n",
    "                    min_score_thresh=.8,\n",
    "                    agnostic_mode=False)\n",
    "        y_pred.append(label)\n",
    "\n",
    "#         plt.imshow(cv2.cvtColor(image_np_with_detections, cv2.COLOR_BGR2RGB))\n",
    "#         plt.show()\n"
   ]
  },
  {
   "cell_type": "code",
   "execution_count": 115,
   "metadata": {},
   "outputs": [
    {
     "data": {
      "image/png": "[encoded data removed]",
      "text/plain": [
       "<Figure size 540x540 with 1 Axes>"
      ]
     },
     "metadata": {
      "needs_background": "light"
     },
     "output_type": "display_data"
    }
   ],
   "source": [
    "import matplotlib.pyplot as plt\n",
    "from sklearn.datasets import make_classification\n",
    "from sklearn.metrics import confusion_matrix\n",
    "from sklearn.model_selection import train_test_split \n",
    "from sklearn.svm import SVC\n",
    "\n",
    "\n",
    "\n",
    "conf_matrix = confusion_matrix(y_true=y_act, y_pred=y_pred)\n",
    "\n",
    "fig, ax = plt.subplots(figsize=(7.5, 7.5))\n",
    "ax.matshow(conf_matrix, cmap=plt.cm.Blues, alpha=0.3)\n",
    "for i in range(conf_matrix.shape[0]):\n",
    "    for j in range(conf_matrix.shape[1]):\n",
    "        ax.text(x=j, y=i,s=conf_matrix[i, j], va='center', ha='center', size='xx-large')\n",
    " \n",
    "\n",
    "\n",
    "plt.xlabel('Predictions', fontsize=18)\n",
    "plt.ylabel('Actuals', fontsize=18)\n",
    "plt.title('Confusion Matrix', fontsize=18)\n",
    "plt.show()"
   ]
  },
  {
   "cell_type": "code",
   "execution_count": 110,
   "metadata": {},
   "outputs": [
    {
     "name": "stdout",
     "output_type": "stream",
     "text": [
      "[[4 0 0 0 0 0 0 1]\n",
      " [0 4 0 0 0 0 0 0]\n",
      " [0 0 4 0 0 0 0 0]\n",
      " [0 0 0 3 1 0 0 1]\n",
      " [0 0 0 1 4 0 0 0]\n",
      " [0 0 0 1 0 4 0 0]\n",
      " [0 0 0 0 0 0 5 0]\n",
      " [0 0 0 0 0 0 0 0]]\n"
     ]
    }
   ],
   "source": [
    "conf_matrix = metrics.confusion_matrix(y_act, y_pred, labels=['Telephone', 'ILoveYou', 'Family', 'Yes', 'No', 'Money', 'Help','empty'])\n",
    "\n",
    "\n",
    "print(conf_matrix)"
   ]
  },
  {
   "cell_type": "code",
   "execution_count": 112,
   "metadata": {},
   "outputs": [
    {
     "name": "stdout",
     "output_type": "stream",
     "text": [
      "Collecting mlxtend\n",
      "  Downloading mlxtend-0.19.0-py2.py3-none-any.whl (1.3 MB)\n",
      "Requirement already satisfied: scikit-learn>=0.20.3 in c:\\users\\abhis\\anaconda3\\lib\\site-packages (from mlxtend) (0.24.1)\n",
      "Requirement already satisfied: setuptools in c:\\users\\abhis\\anaconda3\\lib\\site-packages (from mlxtend) (52.0.0.post20210125)\n",
      "Requirement already satisfied: scipy>=1.2.1 in c:\\users\\abhis\\anaconda3\\lib\\site-packages (from mlxtend) (1.6.2)\n",
      "Requirement already satisfied: numpy>=1.16.2 in c:\\users\\abhis\\anaconda3\\lib\\site-packages (from mlxtend) (1.19.5)\n",
      "Requirement already satisfied: joblib>=0.13.2 in c:\\users\\abhis\\anaconda3\\lib\\site-packages (from mlxtend) (1.0.1)\n",
      "Requirement already satisfied: pandas>=0.24.2 in c:\\users\\abhis\\anaconda3\\lib\\site-packages (from mlxtend) (1.2.4)\n",
      "Requirement already satisfied: matplotlib>=3.0.0 in c:\\users\\abhis\\anaconda3\\lib\\site-packages (from mlxtend) (3.3.4)\n",
      "Requirement already satisfied: kiwisolver>=1.0.1 in c:\\users\\abhis\\anaconda3\\lib\\site-packages (from matplotlib>=3.0.0->mlxtend) (1.3.1)\n",
      "Requirement already satisfied: pillow>=6.2.0 in c:\\users\\abhis\\anaconda3\\lib\\site-packages (from matplotlib>=3.0.0->mlxtend) (8.2.0)\n",
      "Requirement already satisfied: python-dateutil>=2.1 in c:\\users\\abhis\\anaconda3\\lib\\site-packages (from matplotlib>=3.0.0->mlxtend) (2.8.1)\n",
      "Requirement already satisfied: cycler>=0.10 in c:\\users\\abhis\\anaconda3\\lib\\site-packages (from matplotlib>=3.0.0->mlxtend) (0.10.0)\n",
      "Requirement already satisfied: pyparsing!=2.0.4,!=2.1.2,!=2.1.6,>=2.0.3 in c:\\users\\abhis\\anaconda3\\lib\\site-packages (from matplotlib>=3.0.0->mlxtend) (2.4.7)\n",
      "Requirement already satisfied: six in c:\\users\\abhis\\anaconda3\\lib\\site-packages (from cycler>=0.10->matplotlib>=3.0.0->mlxtend) (1.15.0)\n",
      "Requirement already satisfied: pytz>=2017.3 in c:\\users\\abhis\\anaconda3\\lib\\site-packages (from pandas>=0.24.2->mlxtend) (2019.3)\n",
      "Requirement already satisfied: threadpoolctl>=2.0.0 in c:\\users\\abhis\\anaconda3\\lib\\site-packages (from scikit-learn>=0.20.3->mlxtend) (2.1.0)\n",
      "Installing collected packages: mlxtend\n",
      "Successfully installed mlxtend-0.19.0\n"
     ]
    }
   ],
   "source": [
    "!pip install mlxtend"
   ]
  },
  {
   "cell_type": "code",
   "execution_count": 121,
   "metadata": {},
   "outputs": [
    {
     "name": "stderr",
     "output_type": "stream",
     "text": [
      "C:\\Users\\abhis\\anaconda3\\lib\\site-packages\\mlxtend\\plotting\\plot_confusion_matrix.py:94: RuntimeWarning: invalid value encountered in true_divide\n",
      "  normed_conf_mat = conf_mat.astype('float') / total_samples\n"
     ]
    },
    {
     "data": {
      "image/png": "[encoded data removed]",
      "text/plain": [
       "<Figure size 432x432 with 1 Axes>"
      ]
     },
     "metadata": {
      "needs_background": "light"
     },
     "output_type": "display_data"
    },
    {
     "name": "stdout",
     "output_type": "stream",
     "text": [
      "[[4 0 0 0 0 0 0 1]\n",
      " [0 4 0 0 0 0 0 0]\n",
      " [0 0 4 0 0 0 0 0]\n",
      " [0 0 0 3 1 0 0 1]\n",
      " [0 0 0 1 4 0 0 0]\n",
      " [0 0 0 1 0 4 0 0]\n",
      " [0 0 0 0 0 0 5 0]\n",
      " [0 0 0 0 0 0 0 0]]\n",
      "              precision    recall  f1-score   support\n",
      "\n",
      "   Telephone       1.00      0.80      0.89         5\n",
      "    ILoveYou       1.00      1.00      1.00         4\n",
      "      Family       1.00      1.00      1.00         4\n",
      "         Yes       0.60      0.60      0.60         5\n",
      "          No       0.80      0.80      0.80         5\n",
      "       Money       1.00      0.80      0.89         5\n",
      "        Help       1.00      1.00      1.00         5\n",
      "       empty       0.00      0.00      0.00         0\n",
      "\n",
      "    accuracy                           0.85        33\n",
      "   macro avg       0.80      0.75      0.77        33\n",
      "weighted avg       0.91      0.85      0.88        33\n",
      "\n"
     ]
    },
    {
     "name": "stderr",
     "output_type": "stream",
     "text": [
      "C:\\Users\\abhis\\anaconda3\\lib\\site-packages\\sklearn\\metrics\\_classification.py:1245: UndefinedMetricWarning: Recall and F-score are ill-defined and being set to 0.0 in labels with no true samples. Use `zero_division` parameter to control this behavior.\n",
      "  _warn_prf(average, modifier, msg_start, len(result))\n",
      "C:\\Users\\abhis\\anaconda3\\lib\\site-packages\\sklearn\\metrics\\_classification.py:1245: UndefinedMetricWarning: Recall and F-score are ill-defined and being set to 0.0 in labels with no true samples. Use `zero_division` parameter to control this behavior.\n",
      "  _warn_prf(average, modifier, msg_start, len(result))\n",
      "C:\\Users\\abhis\\anaconda3\\lib\\site-packages\\sklearn\\metrics\\_classification.py:1245: UndefinedMetricWarning: Recall and F-score are ill-defined and being set to 0.0 in labels with no true samples. Use `zero_division` parameter to control this behavior.\n",
      "  _warn_prf(average, modifier, msg_start, len(result))\n"
     ]
    }
   ],
   "source": [
    "from sklearn import metrics\n",
    "from mlxtend.plotting import plot_confusion_matrix\n",
    "\n",
    "conf_matrix = metrics.confusion_matrix(y_act, y_pred, labels=['Telephone', 'ILoveYou', 'Family', 'Yes', 'No', 'Money', 'Help','empty'])\n",
    "fig, ax = plot_confusion_matrix(conf_mat=conf_matrix, figsize=(6, 6), cmap=plt.cm.Greens)\n",
    "plt.xlabel('Predictions', fontsize=18)\n",
    "plt.ylabel('Actuals', fontsize=18)\n",
    "plt.title('Confusion Matrix', fontsize=18)\n",
    "plt.show()\n",
    "\n",
    "\n",
    "print(metrics.confusion_matrix(y_act, y_pred, labels=['Telephone', 'ILoveYou', 'Family', 'Yes', 'No', 'Money', 'Help','empty']))\n",
    "\n",
    "print(metrics.classification_report(y_act, y_pred, labels=['Telephone', 'ILoveYou', 'Family', 'Yes', 'No', 'Money', 'Help','empty']))"
   ]
  },
  {
   "cell_type": "code",
   "execution_count": 15,
   "metadata": {},
   "outputs": [],
   "source": [
    "TRAINING_SCRIPT = 'python Tensorflow/models/research/object_detection/model_main_tf2.py --model_dir=Tensorflow/workspace/models/my_ssd_mobnet --pipeline_config_path=Tensorflow/workspace/models/my_ssd_mobnet/pipeline.config --num_train_steps=15000'"
   ]
  },
  {
   "cell_type": "code",
   "execution_count": 20,
   "metadata": {},
   "outputs": [],
   "source": [
    "import os\n",
    "PIPELINE_CONFIG = os.path.join('Tensorflow', 'workspace','models', CUSTOM_MODEL_NAME, 'pipeline.config')"
   ]
  },
  {
   "cell_type": "code",
   "execution_count": 21,
   "metadata": {},
   "outputs": [],
   "source": [
    "command = \"python {} --model_dir={} --pipeline_config_path={} --checkpoint_dir={}\".format(TRAINING_SCRIPT, CHECKPOINT_PATH,PIPELINE_CONFIG,CHECKPOINT_PATH)"
   ]
  },
  {
   "cell_type": "code",
   "execution_count": 22,
   "metadata": {},
   "outputs": [
    {
     "data": {
      "text/plain": [
       "'python python Tensorflow/models/research/object_detection/model_main_tf2.py --model_dir=Tensorflow/workspace/models/my_ssd_mobnet --pipeline_config_path=Tensorflow/workspace/models/my_ssd_mobnet/pipeline.config --num_train_steps=15000 --model_dir=Tensorflow/workspace/models/my_ssd_mobnet/ --pipeline_config_path=Tensorflow\\\\workspace\\\\models\\\\my_ssd_mobnet\\\\pipeline.config --checkpoint_dir=Tensorflow/workspace/models/my_ssd_mobnet/'"
      ]
     },
     "execution_count": 22,
     "metadata": {},
     "output_type": "execute_result"
    }
   ],
   "source": [
    "command\n"
   ]
  },
  {
   "cell_type": "code",
   "execution_count": null,
   "metadata": {},
   "outputs": [],
   "source": []
  },
  {
   "cell_type": "markdown",
   "metadata": {},
   "source": [
    "# 8. Detect in Real-Time"
   ]
  },
  {
   "cell_type": "code",
   "execution_count": 9,
   "metadata": {},
   "outputs": [],
   "source": [
    "import cv2 \n",
    "import numpy as np"
   ]
  },
  {
   "cell_type": "code",
   "execution_count": 10,
   "metadata": {},
   "outputs": [],
   "source": [
    "category_index = label_map_util.create_category_index_from_labelmap(ANNOTATION_PATH+'/label_map.pbtxt')"
   ]
  },
  {
   "cell_type": "code",
   "execution_count": 118,
   "metadata": {},
   "outputs": [],
   "source": [
    "cap.release()"
   ]
  },
  {
   "cell_type": "code",
   "execution_count": 117,
   "metadata": {},
   "outputs": [],
   "source": [
    "# Setup capture\n",
    "cap = cv2.VideoCapture(0)\n",
    "width = int(cap.get(cv2.CAP_PROP_FRAME_WIDTH))\n",
    "height = int(cap.get(cv2.CAP_PROP_FRAME_HEIGHT))"
   ]
  },
  {
   "cell_type": "code",
   "execution_count": 15,
   "metadata": {},
   "outputs": [],
   "source": [
    "while True: \n",
    "    ret, frame = cap.read()\n",
    "    image_np = np.array(frame)\n",
    "    \n",
    "    input_tensor = tf.convert_to_tensor(np.expand_dims(image_np, 0), dtype=tf.float32)\n",
    "    detections = detect_fn(input_tensor)\n",
    "    \n",
    "    num_detections = int(detections.pop('num_detections'))\n",
    "    detections = {key: value[0, :num_detections].numpy()\n",
    "                  for key, value in detections.items()}\n",
    "    detections['num_detections'] = num_detections\n",
    "\n",
    "    # detection_classes should be ints.\n",
    "    detections['detection_classes'] = detections['detection_classes'].astype(np.int64)\n",
    "\n",
    "    label_id_offset = 1\n",
    "    image_np_with_detections = image_np.copy()\n",
    "\n",
    "    viz_utils.visualize_boxes_and_labels_on_image_array(\n",
    "                image_np_with_detections,\n",
    "                detections['detection_boxes'],\n",
    "                detections['detection_classes']+label_id_offset,\n",
    "                detections['detection_scores'],\n",
    "                category_index,\n",
    "                use_normalized_coordinates=True,\n",
    "                max_boxes_to_draw=5,\n",
    "                min_score_thresh=.65,\n",
    "                agnostic_mode=False)\n",
    "\n",
    "    cv2.imshow('object detection',  cv2.resize(image_np_with_detections, (800, 600)))\n",
    "    \n",
    "    if cv2.waitKey(10) & 0xFF == ord('q'):\n",
    "        cap.release()\n",
    "        cv2.destroyAllWindows()\n",
    "        break"
   ]
  },
  {
   "cell_type": "code",
   "execution_count": 16,
   "metadata": {},
   "outputs": [],
   "source": [
    "detections = detect_fn(input_tensor)"
   ]
  },
  {
   "cell_type": "code",
   "execution_count": 18,
   "metadata": {},
   "outputs": [
    {
     "data": {
      "text/plain": [
       "{'detection_boxes': <tf.Tensor: shape=(1, 100, 4), dtype=float32, numpy=\n",
       " array([[[0.        , 0.        , 0.646052  , 0.9877914 ],\n",
       "         [0.        , 0.        , 0.76192284, 1.        ],\n",
       "         [0.        , 0.10064369, 0.6441323 , 1.        ],\n",
       "         [0.        , 0.        , 0.76192284, 1.        ],\n",
       "         [0.        , 0.38195086, 0.71383697, 1.        ],\n",
       "         [0.        , 0.        , 0.76192284, 1.        ],\n",
       "         [0.        , 0.10064369, 0.6441323 , 1.        ],\n",
       "         [0.        , 0.        , 1.        , 0.78552365],\n",
       "         [0.72764325, 0.8493485 , 0.97873306, 1.        ],\n",
       "         [0.        , 0.        , 0.6484978 , 1.        ],\n",
       "         [0.        , 0.38195086, 0.71383697, 1.        ],\n",
       "         [0.        , 0.10064369, 0.6441323 , 1.        ],\n",
       "         [0.        , 0.        , 1.        , 1.        ],\n",
       "         [0.        , 0.        , 0.76192284, 1.        ],\n",
       "         [0.        , 0.32266375, 0.6880357 , 1.        ],\n",
       "         [0.        , 0.15516886, 0.86310816, 1.        ],\n",
       "         [0.00245714, 0.1582968 , 0.650773  , 0.9722301 ],\n",
       "         [0.56947404, 0.635056  , 0.6495916 , 0.752136  ],\n",
       "         [0.        , 0.        , 1.        , 0.7131572 ],\n",
       "         [0.        , 0.        , 1.        , 0.6923863 ],\n",
       "         [0.        , 0.04146785, 1.        , 1.        ],\n",
       "         [0.        , 0.3355736 , 0.12486795, 0.53041273],\n",
       "         [0.        , 0.3845756 , 0.12450986, 0.5814199 ],\n",
       "         [0.        , 0.        , 1.        , 1.        ],\n",
       "         [0.        , 0.        , 1.        , 1.        ],\n",
       "         [0.        , 0.38195086, 0.71383697, 1.        ],\n",
       "         [0.        , 0.        , 1.        , 1.        ],\n",
       "         [0.        , 0.12402469, 1.        , 1.        ],\n",
       "         [0.        , 0.12402469, 1.        , 1.        ],\n",
       "         [0.7158951 , 0.67317015, 0.8264894 , 0.8251143 ],\n",
       "         [0.        , 0.43142152, 0.8005059 , 1.        ],\n",
       "         [0.74727726, 0.67689735, 0.8278842 , 0.81354326],\n",
       "         [0.        , 0.        , 1.        , 0.6159082 ],\n",
       "         [0.7026354 , 0.24773765, 0.97052014, 0.61800915],\n",
       "         [0.2455138 , 0.8734185 , 0.49774414, 1.        ],\n",
       "         [0.        , 0.        , 1.        , 1.        ],\n",
       "         [0.        , 0.12402469, 1.        , 1.        ],\n",
       "         [0.        , 0.        , 1.        , 1.        ],\n",
       "         [0.        , 0.03134064, 0.37368423, 0.1972865 ],\n",
       "         [0.        , 0.        , 1.        , 1.        ],\n",
       "         [0.7910689 , 0.70996654, 0.8928505 , 0.81688845],\n",
       "         [0.        , 0.00477731, 0.46067005, 0.3137482 ],\n",
       "         [0.7078286 , 0.64774495, 0.82714504, 0.796943  ],\n",
       "         [0.7662533 , 0.6496015 , 0.90903825, 0.78205305],\n",
       "         [0.        , 0.        , 1.        , 0.6672766 ],\n",
       "         [0.5413536 , 0.61756724, 0.8798231 , 0.893287  ],\n",
       "         [0.7225497 , 0.65250504, 0.80890286, 0.7837738 ],\n",
       "         [0.7225497 , 0.65250504, 0.80890286, 0.7837738 ],\n",
       "         [0.0119458 , 0.6455291 , 0.29634005, 1.        ],\n",
       "         [0.04430401, 0.5252417 , 0.50825673, 1.        ],\n",
       "         [0.40590513, 0.        , 1.        , 0.72569406],\n",
       "         [0.        , 0.28275222, 0.1227989 , 0.47925878],\n",
       "         [0.7870229 , 0.6880882 , 0.8962653 , 0.7883208 ],\n",
       "         [0.        , 0.        , 0.935741  , 0.5594282 ],\n",
       "         [0.11193853, 0.03730064, 0.2545449 , 0.15244888],\n",
       "         [0.        , 0.        , 1.        , 0.9136495 ],\n",
       "         [0.        , 0.43379086, 0.12116947, 0.63257724],\n",
       "         [0.04879212, 0.01082869, 0.17800109, 0.13476354],\n",
       "         [0.7710784 , 0.67164415, 0.8508236 , 0.812982  ],\n",
       "         [0.        , 0.        , 1.        , 0.8132082 ],\n",
       "         [0.        , 0.        , 1.        , 1.        ],\n",
       "         [0.7699345 , 0.6433511 , 0.90615946, 0.7868191 ],\n",
       "         [0.55377847, 0.6074008 , 0.62988216, 0.7332716 ],\n",
       "         [0.        , 0.        , 1.        , 0.86572546],\n",
       "         [0.819087  , 0.00258868, 0.9466188 , 0.08643246],\n",
       "         [0.0119458 , 0.6455291 , 0.29634005, 1.        ],\n",
       "         [0.        , 0.        , 1.        , 1.        ],\n",
       "         [0.8199834 , 0.700609  , 0.9266066 , 0.8177224 ],\n",
       "         [0.        , 0.        , 1.        , 1.        ],\n",
       "         [0.830481  , 0.754258  , 0.99018174, 1.        ],\n",
       "         [0.02434279, 0.        , 0.3671857 , 0.34874982],\n",
       "         [0.823516  , 0.8576433 , 1.        , 1.        ],\n",
       "         [0.01584858, 0.70672685, 0.4141676 , 1.        ],\n",
       "         [0.78760445, 0.        , 0.96409154, 0.16497819],\n",
       "         [0.58249176, 0.65893334, 0.67969704, 0.7789952 ],\n",
       "         [0.37780547, 0.        , 0.8165927 , 0.22974665],\n",
       "         [0.        , 0.20414412, 0.9327623 , 1.        ],\n",
       "         [0.92762965, 0.8678874 , 1.        , 1.        ],\n",
       "         [0.04072888, 0.38770738, 0.13199382, 0.5040503 ],\n",
       "         [0.02461127, 0.42961618, 0.22235832, 0.64476585],\n",
       "         [0.        , 0.        , 1.        , 1.        ],\n",
       "         [0.74727726, 0.67689735, 0.8278842 , 0.81354326],\n",
       "         [0.02791232, 0.47636902, 0.22212887, 0.70923233],\n",
       "         [0.7403397 , 0.69665456, 0.8425209 , 0.84899306],\n",
       "         [0.        , 0.        , 1.        , 1.        ],\n",
       "         [0.7378611 , 0.        , 0.9170734 , 0.14379793],\n",
       "         [0.        , 0.6253959 , 0.5459713 , 1.        ],\n",
       "         [0.55369407, 0.624966  , 0.6319271 , 0.7594179 ],\n",
       "         [0.        , 0.        , 1.        , 0.8132082 ],\n",
       "         [0.04879212, 0.01082869, 0.17800109, 0.13476354],\n",
       "         [0.7320983 , 0.6628485 , 0.83692664, 0.7749677 ],\n",
       "         [0.03511763, 0.02957334, 0.34397548, 0.26665264],\n",
       "         [0.11844483, 0.01115416, 0.24402338, 0.13061193],\n",
       "         [0.01701602, 0.3878271 , 0.10399508, 0.50405204],\n",
       "         [0.        , 0.0010826 , 0.44120818, 0.31679556],\n",
       "         [0.05451287, 0.74090856, 0.24690631, 0.8319673 ],\n",
       "         [0.        , 0.        , 1.        , 1.        ],\n",
       "         [0.58551556, 0.79074115, 0.9233716 , 1.        ],\n",
       "         [0.42307454, 0.4887542 , 1.        , 1.        ],\n",
       "         [0.04631287, 0.7907138 , 0.33468717, 1.        ]]], dtype=float32)>,\n",
       " 'detection_scores': <tf.Tensor: shape=(1, 100), dtype=float32, numpy=\n",
       " array([[0.12059563, 0.09144747, 0.0726817 , 0.05942225, 0.03460953,\n",
       "         0.02352294, 0.02320585, 0.02054456, 0.02024749, 0.0195908 ,\n",
       "         0.01840001, 0.01695386, 0.01561469, 0.01558515, 0.01549572,\n",
       "         0.01453093, 0.0124616 , 0.01213849, 0.01178858, 0.01112735,\n",
       "         0.01045507, 0.01043665, 0.01015896, 0.00992724, 0.00964046,\n",
       "         0.0094519 , 0.00911149, 0.00900882, 0.00887978, 0.00882879,\n",
       "         0.00882602, 0.00867951, 0.00840327, 0.00839689, 0.00834051,\n",
       "         0.00832194, 0.0082812 , 0.00822276, 0.00814763, 0.00768206,\n",
       "         0.00757056, 0.00752503, 0.00747308, 0.00743887, 0.00723824,\n",
       "         0.00719103, 0.00717947, 0.0071235 , 0.00684181, 0.00673148,\n",
       "         0.00672022, 0.00671092, 0.00670013, 0.00669056, 0.00665358,\n",
       "         0.00660077, 0.00651625, 0.00650397, 0.00649399, 0.00644702,\n",
       "         0.00642499, 0.00624144, 0.00619283, 0.00601596, 0.00598359,\n",
       "         0.00596702, 0.00591722, 0.00589514, 0.00588208, 0.00580263,\n",
       "         0.00578555, 0.00577113, 0.00562987, 0.00561759, 0.00557804,\n",
       "         0.0055491 , 0.00543118, 0.00542289, 0.00538141, 0.00536719,\n",
       "         0.0053046 , 0.00528836, 0.00524771, 0.00521031, 0.00520977,\n",
       "         0.00520915, 0.00518686, 0.00516984, 0.00514716, 0.00513867,\n",
       "         0.00511035, 0.00504607, 0.00503495, 0.00503257, 0.00492388,\n",
       "         0.00491431, 0.00479457, 0.00479317, 0.00477758, 0.00476986]],\n",
       "       dtype=float32)>,\n",
       " 'detection_classes': <tf.Tensor: shape=(1, 100), dtype=float32, numpy=\n",
       " array([[2., 3., 0., 1., 5., 5., 1., 5., 3., 4., 4., 6., 3., 6., 2., 2.,\n",
       "         5., 0., 6., 1., 1., 0., 0., 2., 5., 1., 5., 0., 4., 2., 3., 5.,\n",
       "         5., 6., 4., 0., 2., 5., 1., 6., 3., 5., 0., 0., 3., 5., 2., 5.,\n",
       "         3., 1., 5., 0., 3., 3., 4., 4., 0., 0., 5., 3., 4., 5., 6., 4.,\n",
       "         1., 1., 5., 3., 1., 3., 5., 3., 5., 4., 0., 3., 1., 5., 0., 2.,\n",
       "         3., 0., 2., 2., 1., 4., 5., 0., 2., 1., 0., 1., 4., 0., 4., 0.,\n",
       "         2., 5., 5., 5.]], dtype=float32)>,\n",
       " 'num_detections': <tf.Tensor: shape=(1,), dtype=float32, numpy=array([100.], dtype=float32)>,\n",
       " 'raw_detection_boxes': <tf.Tensor: shape=(1, 12804, 4), dtype=float32, numpy=\n",
       " array([[[-0.03447127, -0.02375674,  0.06668104,  0.06859844],\n",
       "         [-0.03937571, -0.03329654,  0.07757121,  0.0778378 ],\n",
       "         [-0.02571317, -0.03252597,  0.05958824,  0.07483268],\n",
       "         ...,\n",
       "         [-0.5665059 , -0.341465  ,  1.610918  ,  1.5120622 ],\n",
       "         [-0.75593054,  0.07577407,  1.5280346 ,  1.3345271 ],\n",
       "         [-0.9685945 ,  0.02282554,  1.6429317 ,  1.4241219 ]]],\n",
       "       dtype=float32)>,\n",
       " 'raw_detection_scores': <tf.Tensor: shape=(1, 12804, 8), dtype=float32, numpy=\n",
       " array([[[0.00179625, 0.00030226, 0.00066534, ..., 0.00023377,\n",
       "          0.00058231, 0.00016871],\n",
       "         [0.00185573, 0.00025749, 0.00066128, ..., 0.00053793,\n",
       "          0.00158283, 0.00051552],\n",
       "         [0.00166234, 0.00020361, 0.00054231, ..., 0.00163871,\n",
       "          0.00123167, 0.00011819],\n",
       "         ...,\n",
       "         [0.00900835, 0.00524864, 0.00502998, ..., 0.00642499,\n",
       "          0.00487864, 0.00075603],\n",
       "         [0.00322646, 0.0053421 , 0.00359321, ..., 0.00290096,\n",
       "          0.00285614, 0.00166428],\n",
       "         [0.00325152, 0.00389731, 0.0015628 , ..., 0.00551778,\n",
       "          0.00235754, 0.00119773]]], dtype=float32)>,\n",
       " 'detection_multiclass_scores': <tf.Tensor: shape=(1, 100, 8), dtype=float32, numpy=\n",
       " array([[[1.27989054e-03, 6.73293471e-02, 5.47694564e-02, 1.20595634e-01,\n",
       "          1.89154744e-02, 2.99909711e-03, 7.55143166e-03, 1.60017908e-02],\n",
       "         [3.81770730e-03, 2.94393301e-03, 5.94222546e-02, 5.29246926e-02,\n",
       "          9.14474726e-02, 1.68953538e-02, 2.35229433e-02, 1.55851543e-02],\n",
       "         [1.46812201e-03, 7.26816952e-02, 2.32058465e-02, 1.00195408e-01,\n",
       "          3.46216559e-03, 2.70628929e-03, 7.03555346e-03, 1.69538558e-02],\n",
       "         [3.81770730e-03, 2.94393301e-03, 5.94222546e-02, 5.29246926e-02,\n",
       "          9.14474726e-02, 1.68953538e-02, 2.35229433e-02, 1.55851543e-02],\n",
       "         [1.53654814e-03, 1.40213966e-03, 9.45189595e-03, 6.68990612e-03,\n",
       "          1.73768401e-03, 1.84000134e-02, 3.46095264e-02, 4.36842442e-04],\n",
       "         [3.81770730e-03, 2.94393301e-03, 5.94222546e-02, 5.29246926e-02,\n",
       "          9.14474726e-02, 1.68953538e-02, 2.35229433e-02, 1.55851543e-02],\n",
       "         [1.46812201e-03, 7.26816952e-02, 2.32058465e-02, 1.00195408e-01,\n",
       "          3.46216559e-03, 2.70628929e-03, 7.03555346e-03, 1.69538558e-02],\n",
       "         [3.16688418e-03, 4.45884466e-03, 1.08282864e-02, 3.93578410e-03,\n",
       "          1.54352188e-03, 5.31309843e-03, 2.05445588e-02, 8.68645310e-03],\n",
       "         [5.40196896e-04, 9.25658751e-05, 2.74658203e-04, 5.63594840e-05,\n",
       "          2.02474892e-02, 7.85917044e-04, 7.19487667e-04, 7.30454922e-04],\n",
       "         [1.10602379e-03, 1.21864676e-03, 2.01714039e-03, 1.74450874e-02,\n",
       "          1.34238601e-03, 1.95907950e-02, 1.57566071e-02, 1.16479397e-03],\n",
       "         [1.53654814e-03, 1.40213966e-03, 9.45189595e-03, 6.68990612e-03,\n",
       "          1.73768401e-03, 1.84000134e-02, 3.46095264e-02, 4.36842442e-04],\n",
       "         [1.46812201e-03, 7.26816952e-02, 2.32058465e-02, 1.00195408e-01,\n",
       "          3.46216559e-03, 2.70628929e-03, 7.03555346e-03, 1.69538558e-02],\n",
       "         [3.47325206e-03, 6.12419844e-03, 7.83449411e-03, 8.04397464e-03,\n",
       "          1.56146884e-02, 2.20432878e-03, 8.22275877e-03, 2.39270926e-03],\n",
       "         [3.81770730e-03, 2.94393301e-03, 5.94222546e-02, 5.29246926e-02,\n",
       "          9.14474726e-02, 1.68953538e-02, 2.35229433e-02, 1.55851543e-02],\n",
       "         [1.77755952e-03, 1.06362998e-02, 9.74935293e-03, 1.54957175e-02,\n",
       "          5.51754236e-03, 2.33629346e-03, 1.44926310e-02, 4.79367375e-03],\n",
       "         [3.53372097e-03, 3.57389450e-04, 1.81043148e-03, 1.45309269e-02,\n",
       "          8.30423305e-05, 1.78089738e-03, 1.20103359e-03, 2.42778659e-03],\n",
       "         [5.28663397e-04, 9.92119312e-04, 7.70866871e-03, 2.33255029e-02,\n",
       "          7.76052475e-04, 2.37384439e-03, 1.24616027e-02, 1.15275383e-03],\n",
       "         [1.26031041e-03, 1.21384859e-02, 6.34729862e-04, 3.26752663e-04,\n",
       "          5.38140535e-04, 5.05596399e-04, 9.50885369e-05, 1.13236904e-03],\n",
       "         [2.90071964e-03, 2.89997458e-03, 3.37514281e-03, 1.99210644e-03,\n",
       "          2.04259157e-03, 2.77805328e-03, 1.11669302e-03, 1.17885768e-02],\n",
       "         [3.94546986e-03, 1.02648139e-03, 1.11273527e-02, 1.28993392e-03,\n",
       "          1.38661265e-03, 1.66109204e-03, 1.51208043e-03, 3.64613533e-03],\n",
       "         [3.85779142e-03, 6.19384646e-03, 1.04550719e-02, 2.36043334e-03,\n",
       "          3.03030014e-03, 4.58642840e-03, 4.46015596e-03, 1.89968944e-03],\n",
       "         [8.47578049e-04, 1.04366541e-02, 4.08202410e-04, 1.62658095e-03,\n",
       "          1.07027363e-05, 2.15679407e-03, 2.43557024e-05, 5.12123108e-04],\n",
       "         [8.24272633e-04, 1.01589561e-02, 4.59551811e-04, 1.96737051e-03,\n",
       "          1.03776829e-05, 2.52965093e-03, 2.70133260e-05, 5.51104546e-04],\n",
       "         [2.28926539e-03, 2.54049897e-03, 4.28193808e-03, 9.92724299e-03,\n",
       "          9.26852226e-04, 3.33741307e-03, 1.35402977e-02, 3.83794308e-03],\n",
       "         [2.78019905e-03, 4.34404612e-03, 5.88208437e-03, 2.54449248e-03,\n",
       "          3.26848030e-03, 5.26186824e-03, 9.64045525e-03, 7.68205523e-03],\n",
       "         [1.53654814e-03, 1.40213966e-03, 9.45189595e-03, 6.68990612e-03,\n",
       "          1.73768401e-03, 1.84000134e-02, 3.46095264e-02, 4.36842442e-04],\n",
       "         [2.71210074e-03, 4.17384505e-03, 4.82627749e-03, 5.39642572e-03,\n",
       "          2.81569362e-03, 8.71190429e-03, 9.11149383e-03, 1.09800696e-03],\n",
       "         [3.13091278e-03, 9.00882483e-03, 4.90456820e-03, 8.28120112e-03,\n",
       "          1.97839737e-03, 8.87978077e-03, 9.90986824e-04, 3.61591578e-03],\n",
       "         [3.13091278e-03, 9.00882483e-03, 4.90456820e-03, 8.28120112e-03,\n",
       "          1.97839737e-03, 8.87978077e-03, 9.90986824e-04, 3.61591578e-03],\n",
       "         [1.10831857e-03, 7.35682249e-03, 2.24822760e-03, 8.82878900e-03,\n",
       "          2.23872066e-03, 3.23948264e-03, 4.64883447e-03, 1.68392062e-03],\n",
       "         [1.29652023e-03, 2.24313140e-03, 2.33471394e-03, 3.34823132e-03,\n",
       "          8.82601738e-03, 1.49837136e-03, 1.20554864e-02, 2.58752704e-03],\n",
       "         [1.41561031e-03, 5.28836250e-03, 1.72919035e-03, 4.19268012e-03,\n",
       "          1.09574199e-03, 3.07807326e-03, 8.67950916e-03, 3.19406390e-03],\n",
       "         [6.54071569e-03, 5.33640385e-04, 3.67331505e-03, 7.19010830e-04,\n",
       "          1.61212683e-03, 1.94013119e-04, 8.40327144e-03, 2.42084265e-03],\n",
       "         [1.03554130e-03, 6.91413879e-04, 8.01652670e-04, 2.68995762e-04,\n",
       "          2.68584490e-03, 7.97390938e-04, 2.47564912e-03, 8.39689374e-03],\n",
       "         [2.31331587e-03, 4.24891710e-04, 1.47819519e-04, 7.69704580e-04,\n",
       "          7.16269016e-04, 8.34050775e-03, 1.50197744e-03, 6.08414412e-04],\n",
       "         [3.43173742e-03, 8.32194090e-03, 6.37993217e-03, 4.79456782e-03,\n",
       "          3.35779786e-03, 3.52039933e-03, 8.20526481e-03, 1.78653002e-03],\n",
       "         [3.13091278e-03, 9.00882483e-03, 4.90456820e-03, 8.28120112e-03,\n",
       "          1.97839737e-03, 8.87978077e-03, 9.90986824e-04, 3.61591578e-03],\n",
       "         [3.47325206e-03, 6.12419844e-03, 7.83449411e-03, 8.04397464e-03,\n",
       "          1.56146884e-02, 2.20432878e-03, 8.22275877e-03, 2.39270926e-03],\n",
       "         [3.14462185e-03, 1.41808391e-03, 8.14762712e-03, 3.11374664e-04,\n",
       "          1.26311183e-03, 3.33568454e-03, 2.28354335e-03, 1.05321407e-03],\n",
       "         [2.78019905e-03, 4.34404612e-03, 5.88208437e-03, 2.54449248e-03,\n",
       "          3.26848030e-03, 5.26186824e-03, 9.64045525e-03, 7.68205523e-03],\n",
       "         [1.74638629e-03, 3.35046649e-03, 4.47839499e-04, 1.12766027e-03,\n",
       "          7.57056475e-03, 9.48637724e-04, 7.46220350e-04, 8.45253468e-04],\n",
       "         [2.60412693e-03, 1.01143122e-03, 1.54659152e-03, 7.51793385e-04,\n",
       "          1.14622712e-03, 4.79578972e-03, 7.52502680e-03, 1.15680695e-03],\n",
       "         [1.37916207e-03, 7.47308135e-03, 3.13550234e-03, 5.89698553e-03,\n",
       "          1.56033039e-03, 2.53894925e-03, 4.62159514e-03, 1.65078044e-03],\n",
       "         [2.92861462e-03, 7.43886828e-03, 9.77367163e-04, 1.25518441e-03,\n",
       "          2.11483240e-03, 8.89509916e-04, 1.83334947e-03, 1.71917677e-03],\n",
       "         [6.38014078e-03, 3.52716446e-03, 5.55774570e-03, 2.93159485e-03,\n",
       "          7.23823905e-03, 2.11149454e-03, 5.14954329e-03, 5.77953458e-03],\n",
       "         [1.35236979e-03, 3.91963913e-05, 2.60978937e-04, 2.96473503e-04,\n",
       "          1.99415281e-05, 6.57383935e-05, 7.19103217e-03, 1.38128289e-05],\n",
       "         [1.70609355e-03, 7.27814436e-03, 2.41029263e-03, 7.17946887e-03,\n",
       "          2.21711397e-03, 2.71421671e-03, 7.12350011e-03, 2.08884478e-03],\n",
       "         [1.70609355e-03, 7.27814436e-03, 2.41029263e-03, 7.17946887e-03,\n",
       "          2.21711397e-03, 2.71421671e-03, 7.12350011e-03, 2.08884478e-03],\n",
       "         [1.69938803e-03, 2.30047107e-03, 5.96702099e-03, 1.60002708e-03,\n",
       "          6.84180856e-03, 2.55239010e-03, 3.47664952e-03, 1.25840306e-03],\n",
       "         [8.79704952e-04, 5.54859638e-04, 6.73148036e-03, 7.47144222e-04,\n",
       "          1.18115451e-04, 7.88033009e-04, 1.77434087e-03, 3.07404953e-05],\n",
       "         [2.67744064e-03, 2.00575590e-03, 1.20463967e-03, 2.79694796e-04,\n",
       "          1.94013119e-03, 4.00125980e-04, 6.72021508e-03, 1.39829516e-03],\n",
       "         [7.95036554e-04, 6.71091676e-03, 3.64750624e-04, 1.35672092e-03,\n",
       "          1.38888872e-05, 1.74921751e-03, 2.37618897e-05, 4.59641218e-04],\n",
       "         [3.18115950e-03, 1.88404322e-03, 3.45826149e-04, 8.48084688e-04,\n",
       "          6.70012832e-03, 1.08364224e-03, 1.22866035e-03, 1.02981925e-03],\n",
       "         [2.40585208e-03, 6.23375177e-04, 3.40729952e-04, 9.83238220e-04,\n",
       "          6.69056177e-03, 4.62055206e-04, 2.26613879e-03, 8.87036324e-04],\n",
       "         [2.05358863e-03, 2.09045410e-03, 7.82012939e-04, 1.24400854e-03,\n",
       "          1.12995505e-03, 6.65357709e-03, 7.08073378e-04, 1.12998486e-03],\n",
       "         [1.68776512e-03, 2.11197138e-03, 4.92990017e-04, 1.82199478e-03,\n",
       "          5.94377518e-04, 6.60076737e-03, 1.80184841e-04, 4.79862094e-03],\n",
       "         [7.11351633e-04, 6.51624799e-03, 4.43935394e-04, 2.34690309e-03,\n",
       "          1.05027457e-05, 2.22983956e-03, 3.33858370e-05, 4.54634428e-04],\n",
       "         [1.96433067e-03, 6.50396943e-03, 5.13866544e-03, 1.41665339e-03,\n",
       "          2.94381380e-03, 3.42646241e-03, 1.47065520e-03, 7.45505095e-04],\n",
       "         [1.84586644e-03, 1.50942802e-03, 1.55201554e-03, 1.43694878e-03,\n",
       "          1.08954310e-03, 1.63504481e-03, 6.49398565e-03, 1.72373652e-03],\n",
       "         [2.88906693e-03, 1.78626180e-03, 1.40246749e-03, 5.14715910e-03,\n",
       "          6.44701719e-03, 4.86344099e-03, 3.67355347e-03, 1.07339025e-03],\n",
       "         [9.00834799e-03, 5.24863601e-03, 5.02997637e-03, 3.18890810e-03,\n",
       "          4.10848856e-03, 6.42499328e-03, 4.87864017e-03, 7.56025314e-04],\n",
       "         [4.23434377e-03, 3.56557965e-03, 1.35695934e-03, 1.62994862e-03,\n",
       "          4.51931357e-03, 2.05761194e-03, 6.24144077e-03, 1.37966871e-03],\n",
       "         [1.26034021e-03, 2.36326456e-03, 1.04936957e-03, 4.64498997e-04,\n",
       "          2.55432725e-03, 1.46538019e-03, 3.40899825e-03, 6.19283319e-03],\n",
       "         [2.74679065e-03, 7.79539347e-04, 1.07324123e-03, 6.02900982e-04,\n",
       "          8.45879316e-04, 6.01595640e-03, 1.81841850e-03, 8.22484493e-04],\n",
       "         [6.70313835e-04, 1.22607758e-04, 5.98359108e-03, 8.11155624e-05,\n",
       "          9.05901194e-04, 1.06552243e-03, 1.08695030e-03, 1.00663304e-03],\n",
       "         [1.69938803e-03, 2.30047107e-03, 5.96702099e-03, 1.60002708e-03,\n",
       "          6.84180856e-03, 2.55239010e-03, 3.47664952e-03, 1.25840306e-03],\n",
       "         [3.14959884e-03, 3.16488743e-03, 2.21043825e-03, 2.12764740e-03,\n",
       "          1.15695596e-03, 3.84512544e-03, 5.91722131e-03, 1.48734450e-03],\n",
       "         [1.60339475e-03, 1.08802319e-03, 5.11944294e-04, 4.29213047e-04,\n",
       "          5.89513779e-03, 6.79820776e-04, 8.87334347e-04, 7.09831715e-04],\n",
       "         [2.78019905e-03, 4.34404612e-03, 5.88208437e-03, 2.54449248e-03,\n",
       "          3.26848030e-03, 5.26186824e-03, 9.64045525e-03, 7.68205523e-03],\n",
       "         [1.57916546e-03, 6.06566668e-04, 7.35670328e-04, 1.68651342e-04,\n",
       "          5.80263138e-03, 7.75307417e-04, 1.45933032e-03, 1.39811635e-03],\n",
       "         [2.31662393e-03, 6.87211752e-04, 1.75088644e-03, 8.21650028e-04,\n",
       "          7.18355179e-04, 1.90418959e-03, 5.78555465e-03, 3.57359648e-04],\n",
       "         [2.05484033e-03, 9.23573971e-04, 1.77234411e-03, 3.07649374e-04,\n",
       "          5.77113032e-03, 1.01071596e-03, 2.75364518e-03, 1.03050470e-03],\n",
       "         [4.29686904e-03, 2.74777412e-04, 1.21414661e-03, 7.52546621e-05,\n",
       "          5.16921282e-04, 7.22222248e-05, 5.62986732e-03, 1.20284531e-05],\n",
       "         [2.33131647e-03, 1.21165816e-04, 6.73711300e-04, 5.38408756e-04,\n",
       "          9.29772854e-04, 5.61758876e-03, 2.14737654e-03, 7.00443983e-04],\n",
       "         [1.31815672e-03, 5.57804108e-03, 2.21759081e-04, 4.01824713e-04,\n",
       "          1.10633540e-04, 1.11293026e-04, 4.83208787e-05, 1.72168016e-04],\n",
       "         [2.71674991e-03, 4.76121902e-04, 2.94476748e-04, 7.75694847e-04,\n",
       "          5.54910302e-03, 1.17176771e-03, 9.10997391e-04, 3.96549702e-04],\n",
       "         [2.55975127e-03, 1.17055526e-04, 5.43117523e-03, 7.64217973e-03,\n",
       "          1.50970773e-05, 8.65757465e-04, 1.63027644e-03, 9.58085060e-04],\n",
       "         [1.93199515e-03, 7.82221556e-04, 1.15880370e-03, 3.48627567e-04,\n",
       "          8.44806433e-04, 8.85784626e-04, 5.42289019e-03, 2.32595205e-03],\n",
       "         [1.90287828e-03, 5.38140535e-03, 1.62303448e-04, 5.38482891e-05,\n",
       "          1.50352716e-04, 3.81456448e-05, 1.03349914e-04, 1.55061483e-04],\n",
       "         [8.40067863e-04, 3.04660201e-03, 2.04235315e-04, 5.36718965e-03,\n",
       "          3.61698258e-05, 8.56190920e-04, 9.88189349e-05, 9.82642174e-04],\n",
       "         [7.61657953e-04, 1.49488449e-04, 9.50902700e-04, 4.06771898e-04,\n",
       "          5.30460477e-03, 6.76929951e-04, 1.09174848e-03, 2.67028809e-04],\n",
       "         [1.41561031e-03, 5.28836250e-03, 1.72919035e-03, 4.19268012e-03,\n",
       "          1.09574199e-03, 3.07807326e-03, 8.67950916e-03, 3.19406390e-03],\n",
       "         [7.50571489e-04, 2.82552838e-03, 2.49117613e-04, 5.24771214e-03,\n",
       "          4.31855369e-05, 1.16169453e-03, 1.82777643e-04, 7.42524862e-04],\n",
       "         [1.23363733e-03, 2.16606259e-03, 1.37770176e-03, 5.21031022e-03,\n",
       "          1.44672394e-03, 3.43167782e-03, 3.65105271e-03, 6.53237104e-04],\n",
       "         [6.41751289e-03, 2.25275755e-03, 5.20977378e-03, 1.91456079e-03,\n",
       "          1.79240108e-03, 1.79302692e-03, 5.83836436e-03, 2.14338303e-03],\n",
       "         [2.22074986e-03, 1.26272440e-04, 6.43879175e-04, 4.94122505e-04,\n",
       "          6.15656376e-04, 5.20914793e-03, 2.15181708e-03, 4.25308943e-04],\n",
       "         [5.18977642e-04, 1.91761901e-05, 6.25103712e-04, 4.29320653e-06,\n",
       "          1.26928091e-04, 4.68837170e-05, 5.18685579e-03, 3.78039913e-05],\n",
       "         [1.01253390e-03, 5.16983867e-03, 1.18544698e-03, 9.86188650e-04,\n",
       "          1.63933635e-03, 1.90946460e-03, 3.74737382e-03, 4.38767672e-03],\n",
       "         [2.88906693e-03, 1.78626180e-03, 1.40246749e-03, 5.14715910e-03,\n",
       "          6.44701719e-03, 4.86344099e-03, 3.67355347e-03, 1.07339025e-03],\n",
       "         [1.96433067e-03, 6.50396943e-03, 5.13866544e-03, 1.41665339e-03,\n",
       "          2.94381380e-03, 3.42646241e-03, 1.47065520e-03, 7.45505095e-04],\n",
       "         [1.52197480e-03, 5.11035323e-03, 2.41875648e-04, 3.10069323e-03,\n",
       "          7.49737024e-04, 2.53498554e-03, 6.59853220e-04, 1.88314915e-03],\n",
       "         [2.99772620e-03, 2.32112408e-03, 5.04606962e-03, 6.67154789e-04,\n",
       "          3.35419178e-03, 2.41252780e-03, 1.91941857e-03, 3.37541103e-04],\n",
       "         [1.82455778e-03, 3.23152542e-03, 1.68201327e-03, 1.65322423e-03,\n",
       "          8.36402178e-04, 5.03495336e-03, 8.87572765e-04, 1.14306808e-03],\n",
       "         [1.36208534e-03, 5.03256917e-03, 9.76130905e-05, 5.76095772e-05,\n",
       "          9.72807611e-05, 3.97638978e-05, 6.13278826e-05, 1.81317329e-04],\n",
       "         [3.28963995e-03, 2.22647190e-03, 1.29339099e-03, 6.33716583e-04,\n",
       "          2.10645795e-03, 4.92388010e-03, 6.60768151e-03, 2.31444836e-04],\n",
       "         [3.56394053e-03, 4.91431355e-03, 1.83558464e-03, 1.32140517e-03,\n",
       "          1.86556578e-03, 6.95109367e-04, 2.29379535e-03, 1.64520741e-03],\n",
       "         [3.43173742e-03, 8.32194090e-03, 6.37993217e-03, 4.79456782e-03,\n",
       "          3.35779786e-03, 3.52039933e-03, 8.20526481e-03, 1.78653002e-03],\n",
       "         [1.46257877e-03, 3.83555889e-04, 4.39047813e-04, 2.37882137e-04,\n",
       "          4.88281250e-04, 1.56757236e-03, 4.79316711e-03, 3.15696001e-04],\n",
       "         [1.66153908e-03, 1.05294585e-03, 1.43834949e-03, 1.88231468e-04,\n",
       "          6.81042671e-04, 1.08817220e-03, 4.77758050e-03, 3.01480293e-04],\n",
       "         [2.06151605e-03, 8.51869583e-04, 2.00608373e-03, 2.67207623e-04,\n",
       "          2.20298767e-04, 4.87774611e-04, 4.76986170e-03, 1.00535282e-04]]],\n",
       "       dtype=float32)>,\n",
       " 'detection_anchor_indices': <tf.Tensor: shape=(1, 100), dtype=int32, numpy=\n",
       " array([[12644, 12673, 12650, 12673, 12654, 12673, 12650, 12791, 11752,\n",
       "         12645, 12654, 12650, 12782, 12673, 12656, 12619, 12648,  5922,\n",
       "         12750, 12754, 12798,  9648,  9654, 12793, 12797, 12654, 12799,\n",
       "         12762, 12762,  7377, 12688,  7616, 12772, 12506,  3827, 12800,\n",
       "         12762, 12782,  9970, 12797,  8104,  9977,  7371,  8093, 12790,\n",
       "         11373,  7370,  7370,  9939, 12177, 12728,  9642,  8098, 12664,\n",
       "          1698, 12756,  9660,   972,  7856, 12776, 12801,  8089,  5678,\n",
       "         12752,  8410,  9939, 12794,  8344, 12797, 11864,  9975, 11876,\n",
       "         10063, 11642,  6168, 12364, 12623,  9584,   822,  9900, 12704,\n",
       "          7616,  9906,  7623, 12789, 11522, 12178,  5684, 12776,   972,\n",
       "          7608,  9972,  1692,   582,  9973,  1390, 12800, 12476, 12746,\n",
       "         10077]])>}"
      ]
     },
     "execution_count": 18,
     "metadata": {},
     "output_type": "execute_result"
    }
   ],
   "source": [
    "detections"
   ]
  },
  {
   "cell_type": "code",
   "execution_count": 17,
   "metadata": {},
   "outputs": [],
   "source": [
    "from matplotlib import pyplot as plt"
   ]
  },
  {
   "cell_type": "code",
   "execution_count": 1,
   "metadata": {},
   "outputs": [
    {
     "ename": "NameError",
     "evalue": "name 'TRAINING_SCRIPT' is not defined",
     "output_type": "error",
     "traceback": [
      "\u001b[1;31m---------------------------------------------------------------------------\u001b[0m",
      "\u001b[1;31mNameError\u001b[0m                                 Traceback (most recent call last)",
      "\u001b[1;32m<ipython-input-1-b50f711a8d22>\u001b[0m in \u001b[0;36m<module>\u001b[1;34m\u001b[0m\n\u001b[1;32m----> 1\u001b[1;33m \u001b[0mcommand\u001b[0m \u001b[1;33m=\u001b[0m \u001b[1;34m\"python {} --model_dir={} --pipeline_config_path={} --checkpoint_dir={}\"\u001b[0m\u001b[1;33m.\u001b[0m\u001b[0mformat\u001b[0m\u001b[1;33m(\u001b[0m\u001b[0mTRAINING_SCRIPT\u001b[0m\u001b[1;33m,\u001b[0m \u001b[0mpaths\u001b[0m\u001b[1;33m[\u001b[0m\u001b[1;34m'CHECKPOINT_PATH'\u001b[0m\u001b[1;33m]\u001b[0m\u001b[1;33m,\u001b[0m\u001b[0mfiles\u001b[0m\u001b[1;33m[\u001b[0m\u001b[1;34m'PIPELINE_CONFIG'\u001b[0m\u001b[1;33m]\u001b[0m\u001b[1;33m,\u001b[0m \u001b[0mpaths\u001b[0m\u001b[1;33m[\u001b[0m\u001b[1;34m'CHECKPOINT_PATH'\u001b[0m\u001b[1;33m]\u001b[0m\u001b[1;33m)\u001b[0m\u001b[1;33m\u001b[0m\u001b[1;33m\u001b[0m\u001b[0m\n\u001b[0m",
      "\u001b[1;31mNameError\u001b[0m: name 'TRAINING_SCRIPT' is not defined"
     ]
    }
   ],
   "source": [
    "\n",
    "command = \"python {} --model_dir={} --pipeline_config_path={} --checkpoint_dir={}\".format(TRAINING_SCRIPT, paths['CHECKPOINT_PATH'],files['PIPELINE_CONFIG'], paths['CHECKPOINT_PATH'])"
   ]
  },
  {
   "cell_type": "code",
   "execution_count": 2,
   "metadata": {},
   "outputs": [
    {
     "name": "stdout",
     "output_type": "stream",
     "text": [
      "^C\n"
     ]
    }
   ],
   "source": [
    "!python Tensorflow\\models\\research\\object_detection\\model_main_tf2.py --model_dir=Tensorflow\\workspace\\models\\my_ssd_mobnet --pipeline_config_path=Tensorflow\\workspace\\models\\my_ssd_mobnet\\pipeline.config --checkpoint_dir=Tensorflow\\workspace\\models\\my_ssd_mobnet"
   ]
  },
  {
   "cell_type": "code",
   "execution_count": null,
   "metadata": {},
   "outputs": [],
   "source": []
  }
 ],
 "metadata": {
  "kernelspec": {
   "display_name": "Python 3",
   "language": "python",
   "name": "python3"
  },
  "language_info": {
   "codemirror_mode": {
    "name": "ipython",
    "version": 3
   },
   "file_extension": ".py",
   "mimetype": "text/x-python",
   "name": "python",
   "nbconvert_exporter": "python",
   "pygments_lexer": "ipython3",
   "version": "3.8.8"
  }
 },
 "nbformat": 4,
 "nbformat_minor": 2
}
